{
  "nbformat": 4,
  "nbformat_minor": 0,
  "metadata": {
    "colab": {
      "provenance": [],
      "authorship_tag": "ABX9TyPYAeDrfT/aF4GTKrRby8DL",
      "include_colab_link": true
    },
    "kernelspec": {
      "name": "python3",
      "display_name": "Python 3"
    },
    "language_info": {
      "name": "python"
    }
  },
  "cells": [
    {
      "cell_type": "markdown",
      "metadata": {
        "id": "view-in-github",
        "colab_type": "text"
      },
      "source": [
        "<a href=\"https://colab.research.google.com/github/Sreya0/BIRD-SPECIES-IDENTIFICATION/blob/main/Bird_Classification.ipynb\" target=\"_parent\"><img src=\"https://colab.research.google.com/assets/colab-badge.svg\" alt=\"Open In Colab\"/></a>"
      ]
    },
    {
      "cell_type": "code",
      "execution_count": 1,
      "metadata": {
        "id": "ReWOZocPIV5P"
      },
      "outputs": [],
      "source": [
        "import tensorflow as tf\n",
        "import numpy as np\n",
        "import pandas as pd\n",
        "from matplotlib import pyplot as plt\n",
        "from matplotlib import style"
      ]
    },
    {
      "cell_type": "code",
      "source": [
        "X = pd.read_csv('data/feature_martix.csv')\n",
        "Y = pd.read_csv('data/label_matrix.csv')"
      ],
      "metadata": {
        "id": "Gr2UHTpzIasN"
      },
      "execution_count": null,
      "outputs": []
    },
    {
      "cell_type": "code",
      "source": [
        "main_data = pd.concat([X, Y], axis=1)\n",
        "main_data = main_data.reindex(np.random.permutation(X.index))\n",
        "dfs = np.split(main_data, [312], axis=1)"
      ],
      "metadata": {
        "id": "86Wz9YThIueg"
      },
      "execution_count": null,
      "outputs": []
    },
    {
      "cell_type": "code",
      "source": [
        "X = dfs[0]\n",
        "Y = dfs[1]\n"
      ],
      "metadata": {
        "id": "XjvbGU6nI4Zi"
      },
      "execution_count": null,
      "outputs": []
    },
    {
      "cell_type": "code",
      "source": [
        "a = Y.values.reshape(11787)"
      ],
      "metadata": {
        "id": "HU3yP60RI9P0"
      },
      "execution_count": null,
      "outputs": []
    },
    {
      "cell_type": "code",
      "source": [
        "neww = tf.one_hot(a,200)"
      ],
      "metadata": {
        "id": "PkSoZfC3I98q"
      },
      "execution_count": null,
      "outputs": []
    },
    {
      "cell_type": "code",
      "source": [
        "sess = tf.Session()\n",
        "Y = neww.eval(session=sess)"
      ],
      "metadata": {
        "id": "TdmaPPZOJCkH"
      },
      "execution_count": null,
      "outputs": []
    },
    {
      "cell_type": "code",
      "source": [
        "batch_size = 100\n",
        "lr = 0.0002\n",
        "num_iters = 3300\n",
        "K = 250\n",
        "#L = 250\n",
        "n = 11787\n",
        "pkeep = tf.placeholder(tf.float32)"
      ],
      "metadata": {
        "id": "B1fTB3HCJG07"
      },
      "execution_count": null,
      "outputs": []
    },
    {
      "cell_type": "code",
      "source": [
        "x = tf.placeholder(tf.float32, shape=[None, 312])\n",
        "Y_ = tf.placeholder(tf.float32, shape=[None, 200])"
      ],
      "metadata": {
        "id": "k51cqzhyJJSS"
      },
      "execution_count": null,
      "outputs": []
    },
    {
      "cell_type": "code",
      "source": [
        "w1 = tf.Variable(tf.truncated_normal([312, K], stddev=0.1))\n",
        "b1 = tf.Variable(tf.ones([K]))"
      ],
      "metadata": {
        "id": "9Rfxz7aeJL0s"
      },
      "execution_count": null,
      "outputs": []
    },
    {
      "cell_type": "code",
      "source": [
        "w2 = tf.Variable(tf.truncated_normal([K, 200], stddev=0.1))\n",
        "b2 = tf.Variable(tf.ones([200]))"
      ],
      "metadata": {
        "id": "N_P98z99JObt"
      },
      "execution_count": null,
      "outputs": []
    },
    {
      "cell_type": "code",
      "source": [
        "y1 = tf.nn.relu(tf.matmul(x, w1) + b1)\n",
        "do1 = tf.nn.dropout(y1, pkeep)"
      ],
      "metadata": {
        "id": "Wzr0_-xnJQTB"
      },
      "execution_count": null,
      "outputs": []
    },
    {
      "cell_type": "code",
      "source": [
        "y = tf.nn.softmax(tf.matmul(do1, w2) + b2)"
      ],
      "metadata": {
        "id": "--YBvMAxJZl6"
      },
      "execution_count": null,
      "outputs": []
    },
    {
      "cell_type": "code",
      "source": [
        "cross_entropy = -tf.reduce_sum(Y_ * tf.log(y))"
      ],
      "metadata": {
        "id": "ht8-pbyIJacS"
      },
      "execution_count": null,
      "outputs": []
    },
    {
      "cell_type": "code",
      "source": [
        "is_correct = tf.equal(tf.argmax(Y_, 1), tf.argmax(y, 1))\n",
        "accuracy = tf.reduce_mean(tf.cast(is_correct, tf.float32))"
      ],
      "metadata": {
        "id": "BYusr_EzJejC"
      },
      "execution_count": null,
      "outputs": []
    },
    {
      "cell_type": "code",
      "source": [
        "train_step = tf.train.AdamOptimizer(learning_rate=lr).minimize(cross_entropy)"
      ],
      "metadata": {
        "id": "_tym8ia1JgYw"
      },
      "execution_count": null,
      "outputs": []
    },
    {
      "cell_type": "code",
      "source": [
        "sess = tf.Session()\n",
        "init = tf.global_variables_initializer()\n",
        "sess.run(init)"
      ],
      "metadata": {
        "id": "y3gyL31jJk2K"
      },
      "execution_count": null,
      "outputs": []
    },
    {
      "cell_type": "code",
      "source": [
        "aaa = []\n",
        "mmm = []\n",
        "ccc = []\n",
        "att = []\n",
        "testccc = []"
      ],
      "metadata": {
        "id": "BjxoF6Z2JlXS"
      },
      "execution_count": null,
      "outputs": []
    },
    {
      "cell_type": "code",
      "source": [
        "for i in range(num_iters):\n",
        "    train_data = {x: X[0:8520], Y_: Y[0:8520], pkeep:0.75}\n",
        "\n",
        "    sess.run(train_step, feed_dict=train_data)\n",
        "\n",
        "    atr, c = sess.run([accuracy, cross_entropy], feed_dict=train_data)\n",
        "\n",
        "    test_data = {x: X[7520:], Y_: Y[7520:], pkeep:1}\n",
        "    at, ac = sess.run([accuracy, cross_entropy], feed_dict=test_data)\n",
        "\n",
        "    aaa.append(atr)\n",
        "    mmm.append(i)\n",
        "    ccc.append(c)\n",
        "    att.append(at)\n",
        "    testccc.append(ac)\n",
        "\n",
        "    if(i%100 == 0):\n",
        "      print(i, atr, c)\n",
        "\n",
        "print('Accuracy on training set is ', atr)\n",
        "\n",
        "print('Accuracy on test set is', at)"
      ],
      "metadata": {
        "id": "s7bTJ95lJsUD"
      },
      "execution_count": null,
      "outputs": []
    },
    {
      "cell_type": "code",
      "source": [
        "style.use('ggplot')\n",
        "plt.plot(mmm,aaa,color='b',label='training')\n",
        "plt.plot(mmm,att,color='r',label='testing')\n",
        "plt.xlabel('Num Iters')\n",
        "plt.ylabel('Accuracy')\n",
        "plt.legend()\n",
        "plt.show()\n",
        "plt.plot(mmm,ccc,color='b',label='training')\n",
        "plt.plot(mmm, testccc,color='r', label='testing')\n",
        "plt.xlabel('Num Iters')\n",
        "plt.ylabel('Cross-Entropy')\n",
        "plt.legend()\n",
        "plt.show()"
      ],
      "metadata": {
        "id": "MCtgpbbYJtLg"
      },
      "execution_count": null,
      "outputs": []
    }
  ]
}